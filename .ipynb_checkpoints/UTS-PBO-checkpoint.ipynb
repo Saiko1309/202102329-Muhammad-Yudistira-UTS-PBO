{
 "cells": [
  {
   "cell_type": "code",
   "execution_count": 14,
   "id": "e2af2698",
   "metadata": {},
   "outputs": [
    {
     "name": "stdout",
     "output_type": "stream",
     "text": [
      "CURRICULUM vitae \n",
      "\n",
      "\n",
      "Nama                  :  Muhammad Yudistira\n",
      "Tempat/Tanggal Lahir  :  Sebubus, 13 Febuari 2002\n",
      "Jenis Kelamin         :  Laki-laki\n",
      "Alamat                :  jl.Daranante Pontianak kota\n",
      "Nomor/Wa              :  085651044501\n",
      "Email                 :  my674824@gmail.com\n",
      "Pendidikan Formal     : SMAN 1 PALOH\n",
      "Pendidikan Non Formal : Kursus Bahasa Inggris\n",
      "Organisasi            : RIMBAKEVENTURE\n",
      "Prestasi              :  Juara 1  lomba puisi antar SMA \n"
     ]
    }
   ],
   "source": [
    "nama = \"Muhammad Yudistira\"\n",
    "ttl = \"Sebubus, 13 Febuari 2002\"\n",
    "jk = \"Laki-laki\"\n",
    "alamat = \"jl.Daranante Pontianak kota\"\n",
    "agama = \"Islam\"\n",
    "Status = True\n",
    "no = \"085651044501\"\n",
    "email = \"my674824@gmail.com\"\n",
    "pendidikan1  =\"SMAN 1 PALOH\"\n",
    "pendidikan2 = \"Kursus Bahasa Inggris\"\n",
    "organisasi = \"RIMBAKEVENTURE\"\n",
    "prestasi =\" Juara 1  lomba puisi antar SMA \"\n",
    "\n",
    "\n",
    "print(\"CURRICULUM vitae \\n\\n\")\n",
    "print(\"Nama                  : \", nama)\n",
    "print(\"Tempat/Tanggal Lahir  : \", ttl)\n",
    "print(\"Jenis Kelamin         : \", jk)\n",
    "print(\"Alamat                : \", alamat)\n",
    "print(\"Nomor/Wa              : \", no)\n",
    "print(\"Email                 : \", email)\n",
    "print(\"Pendidikan Formal     :\", pendidikan1 )\n",
    "print(\"Pendidikan Non Formal :\", pendidikan2 )\n",
    "print(\"Organisasi            :\", organisasi )\n",
    "print(\"Prestasi              :\", prestasi ) \n"
   ]
  },
  {
   "cell_type": "code",
   "execution_count": 21,
   "id": "c7c0a2bb",
   "metadata": {},
   "outputs": [
    {
     "name": "stdout",
     "output_type": "stream",
     "text": [
      "Panjang : 12\n",
      "Lebar :2\n",
      "Luas persegi panjanf adalah :  24\n"
     ]
    }
   ],
   "source": [
    "panjang = int(input(\"Panjang : \"))\n",
    "lebar = int(input(\"Lebar :\"))\n",
    "\n",
    "luas = lebar*panjang\n",
    "\n",
    "print (\"Luas persegi panjang adalah : \",luas)"
   ]
  },
  {
   "cell_type": "code",
   "execution_count": 28,
   "id": "3c70dcb5",
   "metadata": {},
   "outputs": [
    {
     "name": "stdout",
     "output_type": "stream",
     "text": [
      "Celcius : 4\n",
      "Reamur     :  3.2\n",
      "Celcius    :  4\n",
      "Fahrenheit :  39.2\n"
     ]
    }
   ],
   "source": [
    "celcius = int(input(\"Celcius : \"))\n",
    "fahrenheit = celcius*1.8 + 32\n",
    "reamur = celcius*0.8\n",
    " \n",
    "print(\"Reamur     : \",reamur)  \n",
    "print(\"Celcius    : \",celcius)\n",
    "print(\"Fahrenheit : \",fahrenheit)"
   ]
  },
  {
   "cell_type": "code",
   "execution_count": 27,
   "id": "049919ab",
   "metadata": {},
   "outputs": [
    {
     "name": "stdout",
     "output_type": "stream",
     "text": [
      "Panjang jari-jari :34\n",
      "Luas Lingkaran : 3633.142857142857\n"
     ]
    }
   ],
   "source": [
    "jari = int(input(\"Panjang jari-jari :\"))\n",
    "phi = 22/7\n",
    "luas = float(phi*jari**2)\n",
    "print (\"Luas Lingkaran :\", luas)"
   ]
  },
  {
   "cell_type": "code",
   "execution_count": 25,
   "id": "f34ee666",
   "metadata": {},
   "outputs": [
    {
     "name": "stdout",
     "output_type": "stream",
     "text": [
      "Masukkan Jumlah Detik :45\n",
      "Hari  :  0\n",
      "Jam   :  0\n",
      "Menit :  1\n",
      "Detik :  45\n"
     ]
    }
   ],
   "source": [
    "\n",
    "detik = int(input(\"Masukkan Jumlah Detik :\"))\n",
    "\n",
    "hari = detik/86400\n",
    "temp1 = detik%86400\n",
    "temp2 = temp1%3600\n",
    "jam = temp1/3600\n",
    "menit = temp2/60\n",
    "detik = temp2%60\n",
    "\n",
    "print (\"Hari  : \",round(hari))\n",
    "print (\"Jam   : \",round(jam))\n",
    "print (\"Menit : \",round(menit))\n",
    "print (\"Detik : \",round(detik))"
   ]
  },
  {
   "cell_type": "code",
   "execution_count": null,
   "id": "ae211627",
   "metadata": {},
   "outputs": [],
   "source": []
  }
 ],
 "metadata": {
  "kernelspec": {
   "display_name": "Python 3",
   "language": "python",
   "name": "python3"
  },
  "language_info": {
   "codemirror_mode": {
    "name": "ipython",
    "version": 3
   },
   "file_extension": ".py",
   "mimetype": "text/x-python",
   "name": "python",
   "nbconvert_exporter": "python",
   "pygments_lexer": "ipython3",
   "version": "3.8.8"
  }
 },
 "nbformat": 4,
 "nbformat_minor": 5
}
